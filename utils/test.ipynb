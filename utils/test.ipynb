{
 "cells": [
  {
   "cell_type": "code",
   "execution_count": 15,
   "metadata": {},
   "outputs": [],
   "source": [
    "import pandas as pd\n",
    "\n",
    "# JSON 파일 경로\n",
    "json_file_path = \"C:/SKN_3_MyProject/SKN_03_FINAL/Data/Final/df_with_negatives.json\"\n",
    "# JSON 파일을 데이터프레임으로 읽기\n",
    "df = pd.read_json(json_file_path, lines=True)"
   ]
  },
  {
   "cell_type": "code",
   "execution_count": 16,
   "metadata": {},
   "outputs": [
    {
     "data": {
      "text/plain": [
       "array(['드라마/감동', '음악중심/주크박스', '판타지/어드벤처', '코미디/유머', '코미디/유머, 음악중심/주크박스',\n",
       "       '드라마/감동, 음악중심/주크박스', '드라마/감동, 코미디/유머', '코미디/유머, 액션/스릴러', '액션/스릴러',\n",
       "       '드라마/감동, 판타지/어드벤처', '코미디/유머, 판타지/어드벤처', '액션/스릴러, 판타지/어드벤처',\n",
       "       '드라마/감동, 액션/스릴러', '액션/스릴러, 음악중심/주크박스'], dtype=object)"
      ]
     },
     "execution_count": 16,
     "metadata": {},
     "output_type": "execute_result"
    }
   ],
   "source": [
    "# genre 컬럼의 유니크 값 추출\n",
    "unique_genres = df['genre'].unique()\n",
    "unique_genres"
   ]
  },
  {
   "cell_type": "code",
   "execution_count": 17,
   "metadata": {},
   "outputs": [
    {
     "data": {
      "text/plain": [
       "14"
      ]
     },
     "execution_count": 17,
     "metadata": {},
     "output_type": "execute_result"
    }
   ],
   "source": [
    "# genre 컬럼의 유니크 값 개수 세기\n",
    "unique_genre_count = df['genre'].nunique()\n",
    "unique_genre_count"
   ]
  },
  {
   "cell_type": "code",
   "execution_count": 18,
   "metadata": {},
   "outputs": [
    {
     "name": "stdout",
     "output_type": "stream",
     "text": [
      "Genre: 코미디/유머, Percentage: 21.40%\n",
      "Genre: 드라마/감동, Percentage: 14.46%\n",
      "Genre: 액션/스릴러, Percentage: 5.63%\n",
      "Genre: 판타지/어드벤처, Percentage: 15.29%\n",
      "Genre: 음악중심/주크박스, Percentage: 16.23%\n",
      "Genre: 드라마/감동, 코미디/유머, Percentage: 7.30%\n",
      "Genre: 코미디/유머, 액션/스릴러, Percentage: 0.87%\n",
      "Genre: 드라마/감동, 액션/스릴러, Percentage: 0.52%\n",
      "Genre: 코미디/유머, 판타지/어드벤처, Percentage: 1.92%\n",
      "Genre: 액션/스릴러, 판타지/어드벤처, Percentage: 1.87%\n",
      "Genre: 드라마/감동, 판타지/어드벤처, Percentage: 1.03%\n",
      "Genre: 코미디/유머, 음악중심/주크박스, Percentage: 7.23%\n",
      "Genre: 드라마/감동, 음악중심/주크박스, Percentage: 4.73%\n",
      "Genre: 액션/스릴러, 음악중심/주크박스, Percentage: 1.51%\n"
     ]
    }
   ],
   "source": [
    "# 각 genre 값의 비율 계산\n",
    "genre_counts = df['genre'].value_counts(normalize=True) * 100\n",
    "\n",
    "# 길이에 따라 정렬\n",
    "sorted_genre_counts = sorted(genre_counts.items(), key=lambda x: len(x[0]))\n",
    "\n",
    "# 출력\n",
    "for genre, percentage in sorted_genre_counts:\n",
    "    print(f\"Genre: {genre}, Percentage: {percentage:.2f}%\")"
   ]
  }
 ],
 "metadata": {
  "kernelspec": {
   "display_name": ".venv",
   "language": "python",
   "name": "python3"
  },
  "language_info": {
   "codemirror_mode": {
    "name": "ipython",
    "version": 3
   },
   "file_extension": ".py",
   "mimetype": "text/x-python",
   "name": "python",
   "nbconvert_exporter": "python",
   "pygments_lexer": "ipython3",
   "version": "3.12.4"
  }
 },
 "nbformat": 4,
 "nbformat_minor": 2
}
