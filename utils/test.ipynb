{
 "cells": [
  {
   "cell_type": "code",
   "execution_count": 33,
   "metadata": {},
   "outputs": [],
   "source": [
    "import pandas as pd\n",
    "\n",
    "# JSON 파일 경로\n",
    "json_file_path = \"C:/SKN_3_MyProject/SKN_03_FINAL/Data/Final/df_with_negatives.json\"\n",
    "# JSON 파일을 데이터프레임으로 읽기\n",
    "df = pd.read_json(json_file_path, lines=True)"
   ]
  },
  {
   "cell_type": "code",
   "execution_count": 34,
   "metadata": {},
   "outputs": [
    {
     "data": {
      "text/plain": [
       "array(['드라마/감동', '음악중심/주크박스', '판타지/어드벤처', '코미디/유머', '코미디/유머, 음악중심/주크박스',\n",
       "       '드라마/감동, 음악중심/주크박스', '드라마/감동, 코미디/유머', '코미디/유머, 액션/스릴러', '액션/스릴러',\n",
       "       '드라마/감동, 판타지/어드벤처', '코미디/유머, 판타지/어드벤처', '액션/스릴러, 판타지/어드벤처',\n",
       "       '드라마/감동, 액션/스릴러', '액션/스릴러, 음악중심/주크박스'], dtype=object)"
      ]
     },
     "execution_count": 34,
     "metadata": {},
     "output_type": "execute_result"
    }
   ],
   "source": [
    "# genre 컬럼의 유니크 값 추출\n",
    "unique_genres = df['genre'].unique()\n",
    "unique_genres"
   ]
  },
  {
   "cell_type": "code",
   "execution_count": 35,
   "metadata": {},
   "outputs": [
    {
     "data": {
      "text/plain": [
       "14"
      ]
     },
     "execution_count": 35,
     "metadata": {},
     "output_type": "execute_result"
    }
   ],
   "source": [
    "# genre 컬럼의 유니크 값 개수 세기\n",
    "unique_genre_count = df['genre'].nunique()\n",
    "unique_genre_count"
   ]
  },
  {
   "cell_type": "code",
   "execution_count": 36,
   "metadata": {},
   "outputs": [
    {
     "name": "stdout",
     "output_type": "stream",
     "text": [
      "Genre: 드라마/감동, Percentage: 19.79%\n",
      "Genre: 코미디/유머, Percentage: 13.87%\n",
      "Genre: 액션/스릴러, Percentage: 5.73%\n",
      "Genre: 판타지/어드벤처, Percentage: 20.37%\n",
      "Genre: 음악중심/주크박스, Percentage: 19.72%\n",
      "Genre: 드라마/감동, 코미디/유머, Percentage: 6.63%\n",
      "Genre: 코미디/유머, 액션/스릴러, Percentage: 1.30%\n",
      "Genre: 드라마/감동, 액션/스릴러, Percentage: 0.63%\n",
      "Genre: 코미디/유머, 판타지/어드벤처, Percentage: 1.33%\n",
      "Genre: 액션/스릴러, 판타지/어드벤처, Percentage: 0.96%\n",
      "Genre: 드라마/감동, 판타지/어드벤처, Percentage: 0.92%\n",
      "Genre: 코미디/유머, 음악중심/주크박스, Percentage: 4.99%\n",
      "Genre: 드라마/감동, 음악중심/주크박스, Percentage: 2.78%\n",
      "Genre: 액션/스릴러, 음악중심/주크박스, Percentage: 0.96%\n"
     ]
    }
   ],
   "source": [
    "# 각 genre 값의 비율 계산\n",
    "genre_counts = df['genre'].value_counts(normalize=True) * 100\n",
    "\n",
    "# 길이에 따라 정렬\n",
    "sorted_genre_counts = sorted(genre_counts.items(), key=lambda x: len(x[0]))\n",
    "\n",
    "# 출력\n",
    "for genre, percentage in sorted_genre_counts:\n",
    "    print(f\"Genre: {genre}, Percentage: {percentage:.2f}%\")"
   ]
  },
  {
   "cell_type": "code",
   "execution_count": 37,
   "metadata": {},
   "outputs": [
    {
     "name": "stdout",
     "output_type": "stream",
     "text": [
      "Target: 0, Percentage: 80.00%\n",
      "Target: 1, Percentage: 20.00%\n"
     ]
    }
   ],
   "source": [
    "# target 컬럼의 비율 계산\n",
    "target_counts = df['target'].value_counts(normalize=True) * 100\n",
    "\n",
    "# 비율 출력\n",
    "for target_value, percentage in target_counts.items():\n",
    "    print(f\"Target: {target_value}, Percentage: {percentage:.2f}%\")"
   ]
  },
  {
   "cell_type": "code",
   "execution_count": null,
   "metadata": {},
   "outputs": [],
   "source": []
  }
 ],
 "metadata": {
  "kernelspec": {
   "display_name": ".venv",
   "language": "python",
   "name": "python3"
  },
  "language_info": {
   "codemirror_mode": {
    "name": "ipython",
    "version": 3
   },
   "file_extension": ".py",
   "mimetype": "text/x-python",
   "name": "python",
   "nbconvert_exporter": "python",
   "pygments_lexer": "ipython3",
   "version": "3.12.4"
  }
 },
 "nbformat": 4,
 "nbformat_minor": 2
}
