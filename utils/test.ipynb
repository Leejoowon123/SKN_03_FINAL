{
 "cells": [
  {
   "cell_type": "code",
   "execution_count": 166,
   "metadata": {},
   "outputs": [],
   "source": [
    "import pandas as pd\n",
    "\n",
    "# JSON 파일 경로\n",
    "json_file_path = \"C:/SKN_3_MyProject/SKN_03_FINAL/Data/Final/df_with_negatives.json\"\n",
    "# JSON 파일을 데이터프레임으로 읽기\n",
    "df = pd.read_json(json_file_path, lines=True)"
   ]
  },
  {
   "cell_type": "code",
   "execution_count": 167,
   "metadata": {},
   "outputs": [],
   "source": [
    "# # target 컬럼의 비율 계산\n",
    "# target_counts = df['target'].value_counts(normalize=True) * 100\n",
    "\n",
    "# # 비율 출력\n",
    "# for target_value, percentage in target_counts.items():\n",
    "#     print(f\"Target: {target_value}, Percentage: {percentage:.2f}%\")"
   ]
  },
  {
   "cell_type": "code",
   "execution_count": 168,
   "metadata": {},
   "outputs": [
    {
     "name": "stdout",
     "output_type": "stream",
     "text": [
      "genre: 역사, Count: 2411, Percentage: 23.35%\n",
      "genre: 가족, Count: 1865, Percentage: 18.06%\n",
      "genre: 신화, Count: 1425, Percentage: 13.80%\n",
      "genre: 대학로, Count: 2489, Percentage: 24.11%\n",
      "genre: 지역|창작, Count: 2135, Percentage: 20.68%\n",
      "10325\n"
     ]
    }
   ],
   "source": [
    "# age 값들의 비율과 갯수를 계산\n",
    "genre_counts = df['genre'].value_counts(normalize=False)  # 갯수\n",
    "genre_percentages = df['genre'].value_counts(normalize=True) * 100  # 비율\n",
    "\n",
    "# 갯수와 비율을 데이터로 결합\n",
    "genre_summary = [\n",
    "    {'genre': genre, 'count': count, 'percentage': genre_percentages[genre]}\n",
    "    for genre, count in genre_counts.items()\n",
    "]\n",
    "\n",
    "# 길이에 따라 정렬\n",
    "sorted_genre_summary = sorted(genre_summary, key=lambda x: len(x['genre']))\n",
    "cnt = 0\n",
    "# 출력\n",
    "for entry in sorted_genre_summary:\n",
    "    cnt +=entry['count']\n",
    "    print(f\"genre: {entry['genre']}, Count: {entry['count']}, Percentage: {entry['percentage']:.2f}%\")\n",
    "print(cnt)"
   ]
  },
  {
   "cell_type": "code",
   "execution_count": 160,
   "metadata": {},
   "outputs": [
    {
     "data": {
      "text/plain": [
       "(-30.310000000000002,\n",
       " 124.43,\n",
       " Empty DataFrame\n",
       " Columns: [title, percentage, start_date, end_date, place, cast, editor, runtime, age, ticket_price, performance_status, child, musical_license, time, poster, genre]\n",
       " Index: [])"
      ]
     },
     "execution_count": 160,
     "metadata": {},
     "output_type": "execute_result"
    }
   ],
   "source": [
    "# 이상치 확인을 위한 사분위수를 계산\n",
    "q1 = df['percentage'].quantile(0.25)  # 1사분위수\n",
    "q3 = df['percentage'].quantile(0.75)  # 3사분위수\n",
    "iqr = q3 - q1  # IQR (Interquartile Range)\n",
    "\n",
    "# 이상치 경계 계산\n",
    "lower_bound = q1 - 1.5 * iqr\n",
    "upper_bound = q3 + 1.5 * iqr\n",
    "\n",
    "# 이상치 데이터 확인\n",
    "outliers = df[(df['percentage'] < lower_bound) | (df['percentage'] > upper_bound)]\n",
    "\n",
    "# 결과 출력\n",
    "lower_bound, upper_bound, outliers"
   ]
  },
  {
   "cell_type": "code",
   "execution_count": 161,
   "metadata": {},
   "outputs": [
    {
     "data": {
      "image/png": "[encoded data removed]",
      "text/plain": [
       "<Figure size 800x600 with 1 Axes>"
      ]
     },
     "metadata": {},
     "output_type": "display_data"
    }
   ],
   "source": [
    "import matplotlib.pyplot as plt\n",
    "\n",
    "plt.figure(figsize=(8, 6))\n",
    "plt.boxplot(df['percentage'], vert=False, patch_artist=True, notch=True, showmeans=True)\n",
    "plt.title('Boxplot of Percentage')\n",
    "plt.xlabel('Percentage')\n",
    "plt.grid(True)\n",
    "plt.show()"
   ]
  },
  {
   "cell_type": "code",
   "execution_count": 162,
   "metadata": {},
   "outputs": [],
   "source": [
    "json_file_path = \"C:/SKN_3_MyProject/SKN_03_FINAL/Data/Final/df_with_negatives.json\"\n",
    "# JSON 파일을 데이터프레임으로 읽기\n",
    "df_2 = pd.read_json(json_file_path, lines=True)"
   ]
  },
  {
   "cell_type": "code",
   "execution_count": 163,
   "metadata": {},
   "outputs": [
    {
     "name": "stdout",
     "output_type": "stream",
     "text": [
      "Target distribution:\n",
      "target\n",
      "0    8260\n",
      "1    2065\n",
      "Name: count, dtype: int64\n",
      "Unique target values: [1 0]\n"
     ]
    }
   ],
   "source": [
    "print(\"Target distribution:\")\n",
    "print(df_2['target'].value_counts())\n",
    "print(\"Unique target values:\", df_2['target'].unique())"
   ]
  },
  {
   "cell_type": "code",
   "execution_count": 164,
   "metadata": {},
   "outputs": [
    {
     "name": "stdout",
     "output_type": "stream",
     "text": [
      "NaN count per column:\n",
      "cast          0\n",
      "title         0\n",
      "genre         0\n",
      "percentage    0\n",
      "target        0\n",
      "dtype: int64\n",
      "Rows with NaN values:\n"
     ]
    }
   ],
   "source": [
    "# NaN 값이 포함된 컬럼 및 개수 확인\n",
    "print(\"NaN count per column:\")\n",
    "print(df_2.isna().sum())\n",
    "\n",
    "# NaN 값이 포함된 전체 행 확인\n",
    "nan_rows = df_2[df_2.isna().any(axis=1)]\n",
    "print(\"Rows with NaN values:\")"
   ]
  },
  {
   "cell_type": "code",
   "execution_count": 165,
   "metadata": {},
   "outputs": [
    {
     "name": "stdout",
     "output_type": "stream",
     "text": [
      "Inf count per column:\n",
      "cast          0\n",
      "title         0\n",
      "genre         0\n",
      "percentage    0\n",
      "target        0\n",
      "dtype: int64\n",
      "-Inf count per column:\n",
      "cast          0\n",
      "title         0\n",
      "genre         0\n",
      "percentage    0\n",
      "target        0\n",
      "dtype: int64\n",
      "Rows with Inf or -Inf values:\n"
     ]
    }
   ],
   "source": [
    "import numpy as np\n",
    "# inf 값이 포함된 컬럼 및 개수 확인\n",
    "print(\"Inf count per column:\")\n",
    "print((df_2 == np.inf).sum())\n",
    "\n",
    "# -inf 값이 포함된 컬럼 및 개수 확인\n",
    "print(\"-Inf count per column:\")\n",
    "print((df_2 == -np.inf).sum())\n",
    "\n",
    "# inf 또는 -inf 값이 포함된 전체 행 확인\n",
    "inf_rows = df_2[(df_2 == np.inf).any(axis=1) | (df_2 == -np.inf).any(axis=1)]\n",
    "print(\"Rows with Inf or -Inf values:\")"
   ]
  },
  {
   "cell_type": "code",
   "execution_count": null,
   "metadata": {},
   "outputs": [],
   "source": []
  }
 ],
 "metadata": {
  "kernelspec": {
   "display_name": ".venv",
   "language": "python",
   "name": "python3"
  },
  "language_info": {
   "codemirror_mode": {
    "name": "ipython",
    "version": 3
   },
   "file_extension": ".py",
   "mimetype": "text/x-python",
   "name": "python",
   "nbconvert_exporter": "python",
   "pygments_lexer": "ipython3",
   "version": "3.12.4"
  }
 },
 "nbformat": 4,
 "nbformat_minor": 2
}
