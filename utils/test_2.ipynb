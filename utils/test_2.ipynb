{
 "cells": [
  {
   "cell_type": "code",
   "execution_count": 1,
   "metadata": {},
   "outputs": [],
   "source": [
    "import pandas as pd\n",
    "\n",
    "# JSON 파일 로드\n",
    "file_path = 'C:/SKN_3_MyProject/SKN_03_FINAL/Data/Final/per+raw.json'\n",
    "data = pd.read_json(file_path)\n",
    "\n",
    "# 삭제할 컬럼 목록\n",
    "columns_to_drop = [\n",
    "    \"performance_id\", \"facility_id\", \"producer\", \"planner\", \n",
    "    \"host\", \"sponsor\", \"synopsis\", \"genre\", \"open_run\", \n",
    "    \"visit\", \"daehakro\", \"festival\", \"musical_create\"\n",
    "]\n",
    "\n",
    "# 컬럼 삭제\n",
    "data = data.drop(columns=columns_to_drop)"
   ]
  },
  {
   "cell_type": "code",
   "execution_count": 2,
   "metadata": {},
   "outputs": [],
   "source": [
    "# child 값이 'Y'가 아닌 데이터만 필터링\n",
    "data = data[data['child'] != 'Y']"
   ]
  },
  {
   "cell_type": "code",
   "execution_count": 3,
   "metadata": {},
   "outputs": [],
   "source": [
    "data = data.dropna()"
   ]
  },
  {
   "cell_type": "code",
   "execution_count": 7,
   "metadata": {},
   "outputs": [],
   "source": [
    "data['percentage'] = pd.to_numeric(data['percentage'], errors='coerce')  # 값이 문자열일 경우 처리\n",
    "data = data[data['percentage'] <= 100]"
   ]
  },
  {
   "cell_type": "code",
   "execution_count": 8,
   "metadata": {},
   "outputs": [
    {
     "name": "stdout",
     "output_type": "stream",
     "text": [
      "데이터 프레임 크기: (316, 15)\n"
     ]
    }
   ],
   "source": [
    "# 데이터 프레임 크기 확인\n",
    "print(f\"데이터 프레임 크기: {data.shape}\")  # (행 개수, 열 개수)"
   ]
  },
  {
   "cell_type": "code",
   "execution_count": 9,
   "metadata": {},
   "outputs": [
    {
     "name": "stdout",
     "output_type": "stream",
     "text": [
      "컬럼별 null 값 개수:\n",
      "title                 0\n",
      "percentage            0\n",
      "start_date            0\n",
      "end_date              0\n",
      "place                 0\n",
      "cast                  0\n",
      "editor                0\n",
      "runtime               0\n",
      "age                   0\n",
      "ticket_price          0\n",
      "performance_status    0\n",
      "child                 0\n",
      "musical_license       0\n",
      "time                  0\n",
      "poster                0\n",
      "dtype: int64\n"
     ]
    }
   ],
   "source": [
    "# 컬럼별 null 값 개수 확인\n",
    "print(\"컬럼별 null 값 개수:\")\n",
    "print(data.isnull().sum())"
   ]
  },
  {
   "cell_type": "code",
   "execution_count": 10,
   "metadata": {},
   "outputs": [
    {
     "name": "stdout",
     "output_type": "stream",
     "text": [
      "null 값이 포함된 행:\n",
      "Empty DataFrame\n",
      "Columns: [title, percentage, start_date, end_date, place, cast, editor, runtime, age, ticket_price, performance_status, child, musical_license, time, poster]\n",
      "Index: []\n"
     ]
    }
   ],
   "source": [
    "# null 값이 포함된 행 출력\n",
    "print(\"null 값이 포함된 행:\")\n",
    "print(data[data.isnull().any(axis=1)])"
   ]
  },
  {
   "cell_type": "code",
   "execution_count": 11,
   "metadata": {},
   "outputs": [
    {
     "name": "stdout",
     "output_type": "stream",
     "text": [
      "데이터 프레임에 null 값이 있나요? 아니요\n"
     ]
    }
   ],
   "source": [
    "# 데이터 프레임에 null 값 존재 여부 확인\n",
    "has_null = data.isnull().values.any()\n",
    "print(f\"데이터 프레임에 null 값이 있나요? {'네' if has_null else '아니요'}\")"
   ]
  },
  {
   "cell_type": "code",
   "execution_count": 12,
   "metadata": {},
   "outputs": [
    {
     "name": "stdout",
     "output_type": "stream",
     "text": [
      "전처리된 데이터가 C:/SKN_3_MyProject/SKN_03_FINAL/Data/Final/processed_data.json에 저장되었습니다.\n"
     ]
    }
   ],
   "source": [
    "# 전처리된 데이터를 새로운 JSON 파일로 저장\n",
    "output_path = 'C:/SKN_3_MyProject/SKN_03_FINAL/Data/Final/processed_data.json'\n",
    "data.to_json(output_path, orient='records', force_ascii=False, lines=True)\n",
    "print(f\"전처리된 데이터가 {output_path}에 저장되었습니다.\")"
   ]
  },
  {
   "cell_type": "code",
   "execution_count": null,
   "metadata": {},
   "outputs": [],
   "source": []
  }
 ],
 "metadata": {
  "kernelspec": {
   "display_name": ".venv",
   "language": "python",
   "name": "python3"
  },
  "language_info": {
   "codemirror_mode": {
    "name": "ipython",
    "version": 3
   },
   "file_extension": ".py",
   "mimetype": "text/x-python",
   "name": "python",
   "nbconvert_exporter": "python",
   "pygments_lexer": "ipython3",
   "version": "3.12.4"
  }
 },
 "nbformat": 4,
 "nbformat_minor": 2
}
