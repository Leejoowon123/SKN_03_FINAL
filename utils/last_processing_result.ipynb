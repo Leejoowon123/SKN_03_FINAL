{
 "cells": [
  {
   "cell_type": "code",
   "execution_count": 1,
   "metadata": {},
   "outputs": [],
   "source": [
    "import pandas as pd  # pandas 라이브러리 임포트"
   ]
  },
  {
   "cell_type": "code",
   "execution_count": 5,
   "metadata": {},
   "outputs": [],
   "source": [
    "# JSON 파일 경로\n",
    "json_file_path = \"C:/SKN_3_MyProject/SKN_03_FINAL/Data/Final/final_processing.json\"\n",
    "# JSON 파일을 데이터프레임으로 읽기\n",
    "df = pd.read_json(json_file_path, lines=True)"
   ]
  },
  {
   "cell_type": "code",
   "execution_count": 6,
   "metadata": {},
   "outputs": [],
   "source": [
    "# 데이터프레임의 결측치 개수를 계산하는 함수\n",
    "def count_missing_values(df):\n",
    "    return df.isnull().sum()"
   ]
  },
  {
   "cell_type": "code",
   "execution_count": 7,
   "metadata": {},
   "outputs": [
    {
     "name": "stdout",
     "output_type": "stream",
     "text": [
      "title                 0\n",
      "start_date            0\n",
      "end_date              0\n",
      "place                 0\n",
      "cast                  0\n",
      "editor                0\n",
      "runtime               0\n",
      "age                   0\n",
      "producer              0\n",
      "host                  0\n",
      "ticket_price          0\n",
      "performance_status    0\n",
      "musical_license       0\n",
      "time                  0\n",
      "poster                0\n",
      "genre                 0\n",
      "story                 0\n",
      "day                   0\n",
      "dtype: int64\n"
     ]
    }
   ],
   "source": [
    "# test_df의 결측치 개수 계산\n",
    "missing_values = count_missing_values(df)  # 결측치 개수 계산\n",
    "print(missing_values)  # 결측치 개수 출력"
   ]
  }
 ],
 "metadata": {
  "kernelspec": {
   "display_name": ".venv",
   "language": "python",
   "name": "python3"
  },
  "language_info": {
   "codemirror_mode": {
    "name": "ipython",
    "version": 3
   },
   "file_extension": ".py",
   "mimetype": "text/x-python",
   "name": "python",
   "nbconvert_exporter": "python",
   "pygments_lexer": "ipython3",
   "version": "3.12.4"
  }
 },
 "nbformat": 4,
 "nbformat_minor": 2
}
