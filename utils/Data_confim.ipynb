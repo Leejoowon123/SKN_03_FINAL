{
 "cells": [
  {
   "cell_type": "code",
   "execution_count": 1,
   "metadata": {},
   "outputs": [],
   "source": [
    "import pandas as pd"
   ]
  },
  {
   "cell_type": "code",
   "execution_count": 2,
   "metadata": {},
   "outputs": [],
   "source": [
    "final_path = \"C:/SKN_3_MyProject/SKN_03_FINAL/Data/Final\""
   ]
  },
  {
   "cell_type": "code",
   "execution_count": 3,
   "metadata": {},
   "outputs": [],
   "source": [
    "df = pd.read_csv(f\"{final_path}/performance_details.csv\")"
   ]
  },
  {
   "cell_type": "code",
   "execution_count": 4,
   "metadata": {},
   "outputs": [],
   "source": [
    "test_df = df.copy()"
   ]
  },
  {
   "cell_type": "code",
   "execution_count": 5,
   "metadata": {},
   "outputs": [],
   "source": [
    "# 특정 데이터프레임의 특정 컬럼을 제거하는 함수\n",
    "def remove_columns(df, columns):\n",
    "    return df.drop(columns=columns)"
   ]
  },
  {
   "cell_type": "code",
   "execution_count": 6,
   "metadata": {},
   "outputs": [],
   "source": [
    "# 데이터프레임의 결측치 개수를 계산하는 함수\n",
    "def count_missing_values(df):\n",
    "    return df.isnull().sum()"
   ]
  },
  {
   "cell_type": "code",
   "execution_count": 7,
   "metadata": {},
   "outputs": [],
   "source": [
    "# test_df에서 특정 컬럼 제거\n",
    "columns_to_remove = ['genre','synopsis', 'open_run', 'visit', 'child', 'daehakro', 'festival', 'musical_create', 'sponsor', 'planner', 'performance_id', 'facility_id']\n",
    "test_df = remove_columns(test_df, columns_to_remove)  # 컬럼 제거"
   ]
  },
  {
   "cell_type": "code",
   "execution_count": 8,
   "metadata": {},
   "outputs": [
    {
     "name": "stdout",
     "output_type": "stream",
     "text": [
      "title                    0\n",
      "start_date               0\n",
      "end_date                 0\n",
      "place                    0\n",
      "cast                  3445\n",
      "editor                3222\n",
      "runtime                 90\n",
      "age                      1\n",
      "producer              3650\n",
      "host                   544\n",
      "ticket_price            23\n",
      "performance_status       0\n",
      "musical_license          0\n",
      "time                     3\n",
      "poster                   1\n",
      "dtype: int64\n"
     ]
    }
   ],
   "source": [
    "# test_df의 결측치 개수 계산\n",
    "missing_values = count_missing_values(test_df)  # 결측치 개수 계산\n",
    "print(missing_values)  # 결측치 개수 출력"
   ]
  },
  {
   "cell_type": "code",
   "execution_count": 9,
   "metadata": {},
   "outputs": [],
   "source": [
    "# 특정 데이터프레임의 특정 컬럼의 결측값을 제거하는 함수\n",
    "def remove_missing_values(df, column):\n",
    "    return df.dropna(subset=[column])  # 지정한 컬럼의 결측값이 있는 행 제거"
   ]
  },
  {
   "cell_type": "code",
   "execution_count": 10,
   "metadata": {},
   "outputs": [],
   "source": [
    "# test_df에서 'cast' 컬럼의 결측값 제거\n",
    "test_df = remove_missing_values(test_df, 'cast')  # 'cast' 컬럼의 결측값 제거"
   ]
  },
  {
   "cell_type": "code",
   "execution_count": 11,
   "metadata": {},
   "outputs": [
    {
     "name": "stdout",
     "output_type": "stream",
     "text": [
      "title                    0\n",
      "start_date               0\n",
      "end_date                 0\n",
      "place                    0\n",
      "cast                     0\n",
      "editor                 497\n",
      "runtime                 36\n",
      "age                      0\n",
      "producer              1051\n",
      "host                   288\n",
      "ticket_price             4\n",
      "performance_status       0\n",
      "musical_license          0\n",
      "time                     0\n",
      "poster                   0\n",
      "dtype: int64\n"
     ]
    }
   ],
   "source": [
    "# test_df의 결측치 개수 계산\n",
    "missing_values = count_missing_values(test_df)  # 결측치 개수 계산\n",
    "print(missing_values)  # 결측치 개수 출력"
   ]
  },
  {
   "cell_type": "code",
   "execution_count": 12,
   "metadata": {},
   "outputs": [],
   "source": [
    "# test_df에서 'cast' 컬럼의 결측값 제거\n",
    "test_df = remove_missing_values(test_df, 'producer')  # 'producer' 컬럼의 결측값 제거"
   ]
  },
  {
   "cell_type": "code",
   "execution_count": 13,
   "metadata": {},
   "outputs": [
    {
     "name": "stdout",
     "output_type": "stream",
     "text": [
      "title                   0\n",
      "start_date              0\n",
      "end_date                0\n",
      "place                   0\n",
      "cast                    0\n",
      "editor                130\n",
      "runtime                 8\n",
      "age                     0\n",
      "producer                0\n",
      "host                  223\n",
      "ticket_price            1\n",
      "performance_status      0\n",
      "musical_license         0\n",
      "time                    0\n",
      "poster                  0\n",
      "dtype: int64\n"
     ]
    }
   ],
   "source": [
    "# test_df의 결측치 개수 계산\n",
    "missing_values = count_missing_values(test_df)  # 결측치 개수 계산\n",
    "print(missing_values)  # 결측치 개수 출력"
   ]
  },
  {
   "cell_type": "code",
   "execution_count": 14,
   "metadata": {},
   "outputs": [
    {
     "name": "stdout",
     "output_type": "stream",
     "text": [
      "title                   0\n",
      "start_date              0\n",
      "end_date                0\n",
      "place                   0\n",
      "cast                    0\n",
      "editor                109\n",
      "runtime                 6\n",
      "age                     0\n",
      "producer                0\n",
      "host                    0\n",
      "ticket_price            0\n",
      "performance_status      0\n",
      "musical_license         0\n",
      "time                    0\n",
      "poster                  0\n",
      "dtype: int64\n"
     ]
    }
   ],
   "source": [
    "# test_df에서 'cast' 컬럼의 결측값 제거\n",
    "test_df = remove_missing_values(test_df, 'host')  # 'host' 컬럼의 결측값 제거\n",
    "# test_df의 결측치 개수 계산\n",
    "missing_values = count_missing_values(test_df)  # 결측치 개수 계산\n",
    "print(missing_values)  # 결측치 개수 출력"
   ]
  },
  {
   "cell_type": "code",
   "execution_count": 15,
   "metadata": {},
   "outputs": [
    {
     "name": "stdout",
     "output_type": "stream",
     "text": [
      "title                 0\n",
      "start_date            0\n",
      "end_date              0\n",
      "place                 0\n",
      "cast                  0\n",
      "editor                0\n",
      "runtime               4\n",
      "age                   0\n",
      "producer              0\n",
      "host                  0\n",
      "ticket_price          0\n",
      "performance_status    0\n",
      "musical_license       0\n",
      "time                  0\n",
      "poster                0\n",
      "dtype: int64\n"
     ]
    }
   ],
   "source": [
    "# test_df에서 'cast' 컬럼의 결측값 제거\n",
    "test_df = remove_missing_values(test_df, 'editor')  # 'editor' 컬럼의 결측값 제거\n",
    "# test_df의 결측치 개수 계산\n",
    "missing_values = count_missing_values(test_df)  # 결측치 개수 계산\n",
    "print(missing_values)  # 결측치 개수 출력"
   ]
  },
  {
   "cell_type": "code",
   "execution_count": 16,
   "metadata": {},
   "outputs": [
    {
     "name": "stdout",
     "output_type": "stream",
     "text": [
      "title                 0\n",
      "start_date            0\n",
      "end_date              0\n",
      "place                 0\n",
      "cast                  0\n",
      "editor                0\n",
      "runtime               0\n",
      "age                   0\n",
      "producer              0\n",
      "host                  0\n",
      "ticket_price          0\n",
      "performance_status    0\n",
      "musical_license       0\n",
      "time                  0\n",
      "poster                0\n",
      "dtype: int64\n"
     ]
    }
   ],
   "source": [
    "# test_df에서 'cast' 컬럼의 결측값 제거\n",
    "test_df = remove_missing_values(test_df, 'runtime')  # 'runtime' 컬럼의 결측값 제거\n",
    "# test_df의 결측치 개수 계산\n",
    "missing_values = count_missing_values(test_df)  # 결측치 개수 계산\n",
    "print(missing_values)  # 결측치 개수 출력"
   ]
  },
  {
   "cell_type": "code",
   "execution_count": 18,
   "metadata": {},
   "outputs": [
    {
     "name": "stdout",
     "output_type": "stream",
     "text": [
      "데이터 개수: 627\n"
     ]
    }
   ],
   "source": [
    "\"\"\"특정 데이터프레임의 데이터 개수를 반환하는 함수\"\"\"\n",
    "def count_rows(df):\n",
    "    return len(df)\n",
    "\n",
    "num_rows = count_rows(test_df)  # 데이터 개수 계산\n",
    "print(f\"데이터 개수: {num_rows}\")  # 데이터 개수 출력"
   ]
  },
  {
   "cell_type": "code",
   "execution_count": null,
   "metadata": {},
   "outputs": [],
   "source": []
  }
 ],
 "metadata": {
  "kernelspec": {
   "display_name": ".venv",
   "language": "python",
   "name": "python3"
  },
  "language_info": {
   "codemirror_mode": {
    "name": "ipython",
    "version": 3
   },
   "file_extension": ".py",
   "mimetype": "text/x-python",
   "name": "python",
   "nbconvert_exporter": "python",
   "pygments_lexer": "ipython3",
   "version": "3.12.4"
  }
 },
 "nbformat": 4,
 "nbformat_minor": 2
}
