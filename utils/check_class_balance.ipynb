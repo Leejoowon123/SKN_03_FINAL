{
 "cells": [
  {
   "cell_type": "code",
   "execution_count": 5,
   "metadata": {},
   "outputs": [],
   "source": [
    "import pandas as pd  # pandas 라이브러리 임포트"
   ]
  },
  {
   "cell_type": "code",
   "execution_count": 6,
   "metadata": {},
   "outputs": [],
   "source": [
    "# JSON 파일 경로\n",
    "json_file_path = \"C:/SKN_3_MyProject/SKN_03_FINAL/Data/Final/embedding_2.json\"\n",
    "# JSON 파일을 데이터프레임으로 읽기\n",
    "df = pd.read_json(json_file_path, lines=True)"
   ]
  },
  {
   "cell_type": "code",
   "execution_count": 7,
   "metadata": {},
   "outputs": [],
   "source": [
    "def check_target_balance(df):\n",
    "    \"\"\"target 컬럼의 클래스 비율 확인 함수\"\"\"\n",
    "    if 'target' not in df.columns:\n",
    "        print(\"target 컬럼이 데이터프레임에 없습니다.\")\n",
    "        return\n",
    "\n",
    "    target_counts = df['target'].value_counts(normalize=True)\n",
    "    print(\"Target 클래스 비율:\")\n",
    "    print(target_counts)\n"
   ]
  },
  {
   "cell_type": "code",
   "execution_count": 8,
   "metadata": {},
   "outputs": [
    {
     "name": "stdout",
     "output_type": "stream",
     "text": [
      "Target 클래스 비율:\n",
      "target\n",
      "1    0.5\n",
      "0    0.5\n",
      "Name: proportion, dtype: float64\n"
     ]
    }
   ],
   "source": [
    "check_target_balance(df)"
   ]
  },
  {
   "cell_type": "code",
   "execution_count": 9,
   "metadata": {},
   "outputs": [],
   "source": [
    "# 희소성 계산 함수\n",
    "def calculate_sparsity(df):\n",
    "    sparsity_report = {}\n",
    "    \n",
    "    # 컬럼별로 0 비율 계산\n",
    "    for col in df.columns:\n",
    "        zero_count = (df[col] == 0).sum() if df[col].dtype != 'object' else 0  # 문자열 컬럼은 제외\n",
    "        sparsity = zero_count / len(df)\n",
    "        sparsity_report[col] = sparsity\n",
    "    \n",
    "    return pd.DataFrame(list(sparsity_report.items()), columns=['Column', 'Sparsity'])"
   ]
  },
  {
   "cell_type": "code",
   "execution_count": 10,
   "metadata": {},
   "outputs": [
    {
     "name": "stdout",
     "output_type": "stream",
     "text": [
      "                    Column  Sparsity\n",
      "0                     cast  0.000000\n",
      "1                    title  0.000000\n",
      "2                   target  0.500000\n",
      "3                   editor  0.000000\n",
      "4                    genre  0.000000\n",
      "5               percentage  0.002963\n",
      "6          musical_license  0.984275\n",
      "7                   period  0.123747\n",
      "8             ticket_price  0.009572\n",
      "9                  cast_id  0.002051\n",
      "10      editor_combined_id  0.004102\n",
      "11              day_vector  0.020966\n",
      "12           time_category  0.002051\n",
      "13    day_time_interaction  0.023017\n",
      "14   actor_sales_influence  0.001367\n",
      "15  actor_genre_preference  0.000000\n"
     ]
    }
   ],
   "source": [
    "# 희소성 분석 실행\n",
    "sparsity_report = calculate_sparsity(df)\n",
    "print(sparsity_report)"
   ]
  },
  {
   "cell_type": "code",
   "execution_count": 11,
   "metadata": {},
   "outputs": [],
   "source": [
    "# 값의 분포에서 최빈값이 전체의 90% 이상을 차지하면 희소하다고 판단.\n",
    "def calculate_mode_sparsity(df):\n",
    "    sparsity_report = {}\n",
    "    for col in df.columns:\n",
    "        if df[col].dtype != 'object':  # 숫자형 데이터만 분석\n",
    "            mode_ratio = df[col].value_counts(normalize=True).max()\n",
    "            sparsity_report[col] = mode_ratio\n",
    "    return pd.DataFrame(list(sparsity_report.items()), columns=['Column', 'Mode_Ratio'])"
   ]
  },
  {
   "cell_type": "code",
   "execution_count": 12,
   "metadata": {},
   "outputs": [
    {
     "name": "stdout",
     "output_type": "stream",
     "text": [
      "                    Column  Mode_Ratio\n",
      "0                    title    0.003874\n",
      "1                   target    0.500000\n",
      "2                    genre    0.296490\n",
      "3               percentage    0.007065\n",
      "4          musical_license    0.984275\n",
      "5                   period    0.453282\n",
      "6             ticket_price    0.178669\n",
      "7                  cast_id    0.011167\n",
      "8       editor_combined_id    0.069964\n",
      "9               day_vector    0.407247\n",
      "10           time_category    0.478806\n",
      "11    day_time_interaction    0.320191\n",
      "12   actor_sales_influence    0.178669\n",
      "13  actor_genre_preference    0.255242\n"
     ]
    }
   ],
   "source": [
    "sparsity_report = calculate_mode_sparsity(df)\n",
    "print(sparsity_report)"
   ]
  },
  {
   "cell_type": "code",
   "execution_count": 13,
   "metadata": {},
   "outputs": [],
   "source": [
    "from scipy.stats import entropy"
   ]
  },
  {
   "cell_type": "code",
   "execution_count": 14,
   "metadata": {},
   "outputs": [
    {
     "name": "stdout",
     "output_type": "stream",
     "text": [
      "                    Column   Entropy\n",
      "0                    title  6.062683\n",
      "1                   target  0.693147\n",
      "2                    genre  1.917934\n",
      "3               percentage  6.019576\n",
      "4          musical_license  0.080898\n",
      "5                   period  2.410222\n",
      "6             ticket_price  3.190974\n",
      "7                  cast_id  5.742522\n",
      "8       editor_combined_id  4.108361\n",
      "9               day_vector  1.815733\n",
      "10           time_category  1.075659\n",
      "11    day_time_interaction  2.405915\n",
      "12   actor_sales_influence  3.194899\n",
      "13  actor_genre_preference  1.581295\n"
     ]
    }
   ],
   "source": [
    "# 엔트로피 값이 낮으면 희소 데이터로 간주.\n",
    "def calculate_entropy(df):\n",
    "    sparsity_report = {}\n",
    "    for col in df.columns:\n",
    "        if df[col].dtype != 'object':  # 숫자형 데이터만 분석\n",
    "            value_counts = df[col].value_counts(normalize=True)\n",
    "            col_entropy = entropy(value_counts)\n",
    "            sparsity_report[col] = col_entropy\n",
    "    return pd.DataFrame(list(sparsity_report.items()), columns=['Column', 'Entropy'])\n",
    "\n",
    "sparsity_report = calculate_entropy(df)\n",
    "print(sparsity_report)"
   ]
  },
  {
   "cell_type": "code",
   "execution_count": 15,
   "metadata": {},
   "outputs": [
    {
     "name": "stdout",
     "output_type": "stream",
     "text": [
      "                    Column  Unique_Ratio\n",
      "0                     cast      0.077940\n",
      "1                    title      0.103464\n",
      "2                   target      0.000456\n",
      "3                   editor      0.059253\n",
      "4                    genre      0.003191\n",
      "5               percentage      0.099818\n",
      "6          musical_license      0.000456\n",
      "7                   period      0.017092\n",
      "8             ticket_price      0.010255\n",
      "9                  cast_id      0.077940\n",
      "10      editor_combined_id      0.021650\n",
      "11              day_vector      0.004330\n",
      "12           time_category      0.001595\n",
      "13    day_time_interaction      0.010483\n",
      "14   actor_sales_influence      0.010483\n",
      "15  actor_genre_preference      0.001367\n"
     ]
    }
   ],
   "source": [
    "# ID처럼 각 값이 유일하면, 모델에 크게 기여하지 않을 가능성이 있음.\n",
    "def calculate_cardinality(df):\n",
    "    sparsity_report = {}\n",
    "    for col in df.columns:\n",
    "        unique_ratio = df[col].nunique() / len(df)\n",
    "        sparsity_report[col] = unique_ratio\n",
    "    return pd.DataFrame(list(sparsity_report.items()), columns=['Column', 'Unique_Ratio'])\n",
    "\n",
    "sparsity_report = calculate_cardinality(df)\n",
    "print(sparsity_report)"
   ]
  },
  {
   "cell_type": "code",
   "execution_count": 16,
   "metadata": {},
   "outputs": [
    {
     "name": "stdout",
     "output_type": "stream",
     "text": [
      "                    Column  Is_Sparse\n",
      "0                    title      False\n",
      "1                   target      False\n",
      "2                    genre      False\n",
      "3               percentage      False\n",
      "4          musical_license      False\n",
      "5                   period      False\n",
      "6             ticket_price      False\n",
      "7                  cast_id      False\n",
      "8       editor_combined_id      False\n",
      "9               day_vector      False\n",
      "10           time_category      False\n",
      "11    day_time_interaction      False\n",
      "12   actor_sales_influence      False\n",
      "13  actor_genre_preference      False\n"
     ]
    }
   ],
   "source": [
    "# 값이 거의 비슷한 범위에 있다면 하나의 값으로 병합\n",
    "def calculate_variance_sparsity(df, threshold=0.01):\n",
    "    sparsity_report = {}\n",
    "    for col in df.columns:\n",
    "        if df[col].dtype != 'object':  # 숫자형 데이터만 분석\n",
    "            variance = df[col].std()\n",
    "            sparsity_report[col] = variance < threshold  # True: 희소한 컬럼\n",
    "    return pd.DataFrame(list(sparsity_report.items()), columns=['Column', 'Is_Sparse'])\n",
    "\n",
    "sparsity_report = calculate_variance_sparsity(df)\n",
    "print(sparsity_report)"
   ]
  },
  {
   "cell_type": "code",
   "execution_count": 18,
   "metadata": {},
   "outputs": [
    {
     "name": "stdout",
     "output_type": "stream",
     "text": [
      "                    Column  Target_Correlation\n",
      "0                    title            0.012703\n",
      "1                    genre            0.024236\n",
      "2               percentage            0.026993\n",
      "3          musical_license            0.078768\n",
      "4                   period            0.067740\n",
      "5             ticket_price            0.083649\n",
      "6                  cast_id            0.001984\n",
      "7       editor_combined_id            0.000767\n",
      "8               day_vector            0.091312\n",
      "9            time_category            0.030476\n",
      "10    day_time_interaction            0.077473\n",
      "11   actor_sales_influence            0.088039\n",
      "12  actor_genre_preference            0.015285\n"
     ]
    }
   ],
   "source": [
    "# 피처가 target과 독립적이면 모델 성능에 큰 기여를 하지 않을 가능성이 있음\n",
    "def calculate_target_correlation(df, target_col):\n",
    "    correlations = {}\n",
    "    for col in df.columns:\n",
    "        if col != target_col and df[col].dtype != 'object':\n",
    "            correlations[col] = abs(df[col].corr(df[target_col]))\n",
    "    return pd.DataFrame(list(correlations.items()), columns=['Column', 'Target_Correlation'])\n",
    "\n",
    "correlation_report = calculate_target_correlation(df, target_col='target')\n",
    "print(correlation_report)"
   ]
  },
  {
   "cell_type": "code",
   "execution_count": null,
   "metadata": {},
   "outputs": [],
   "source": []
  }
 ],
 "metadata": {
  "kernelspec": {
   "display_name": ".venv",
   "language": "python",
   "name": "python3"
  },
  "language_info": {
   "codemirror_mode": {
    "name": "ipython",
    "version": 3
   },
   "file_extension": ".py",
   "mimetype": "text/x-python",
   "name": "python",
   "nbconvert_exporter": "python",
   "pygments_lexer": "ipython3",
   "version": "3.12.4"
  }
 },
 "nbformat": 4,
 "nbformat_minor": 2
}
